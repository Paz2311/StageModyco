{
 "cells": [
  {
   "cell_type": "code",
   "execution_count": 3,
   "metadata": {},
   "outputs": [
    {
     "name": "stdout",
     "output_type": "stream",
     "text": [
      "Requirement already satisfied: grewpy in /usr/local/lib/python3.11/site-packages (0.4.5)\n",
      "Requirement already satisfied: numpy in /usr/local/lib/python3.11/site-packages (from grewpy) (1.26.4)\n",
      "Note: you may need to restart the kernel to use updated packages.\n"
     ]
    }
   ],
   "source": [
    "pip install grewpy"
   ]
  },
  {
   "cell_type": "code",
   "execution_count": 4,
   "metadata": {},
   "outputs": [
    {
     "name": "stdout",
     "output_type": "stream",
     "text": [
      "Requirement already satisfied: pandas in /usr/local/lib/python3.11/site-packages (2.2.1)\n",
      "Requirement already satisfied: numpy<2,>=1.23.2 in /usr/local/lib/python3.11/site-packages (from pandas) (1.26.4)\n",
      "Requirement already satisfied: python-dateutil>=2.8.2 in /Users/maria23paz/Library/Python/3.11/lib/python/site-packages (from pandas) (2.8.2)\n",
      "Requirement already satisfied: pytz>=2020.1 in /usr/local/lib/python3.11/site-packages (from pandas) (2024.1)\n",
      "Requirement already satisfied: tzdata>=2022.7 in /usr/local/lib/python3.11/site-packages (from pandas) (2024.1)\n",
      "Requirement already satisfied: six>=1.5 in /Users/maria23paz/Library/Python/3.11/lib/python/site-packages (from python-dateutil>=2.8.2->pandas) (1.16.0)\n",
      "Note: you may need to restart the kernel to use updated packages.\n"
     ]
    }
   ],
   "source": [
    "pip install pandas"
   ]
  },
  {
   "cell_type": "code",
   "execution_count": 1,
   "metadata": {},
   "outputs": [
    {
     "name": "stderr",
     "output_type": "stream",
     "text": [
      "connected to port: 51030\n"
     ]
    }
   ],
   "source": [
    "import grewpy\n",
    "from grewpy import Corpus, Request, CorpusDraft\n",
    "import re\n",
    "from transformation import dico_transformation, phonemes_bigraphiques, consonnes,liste_c_indesirables "
   ]
  },
  {
   "cell_type": "code",
   "execution_count": 2,
   "metadata": {},
   "outputs": [
    {
     "name": "stdout",
     "output_type": "stream",
     "text": [
      "<class 'grewpy.corpus.Corpus'>\n"
     ]
    }
   ],
   "source": [
    "treebank_path=\"/Users/maria23paz/Documents/Stage/Depo/SUD_Naija-NSC/not-to-release\"\n",
    "grewpy.set_config(\"sud\") # ud or basic\n",
    "corpus = Corpus(treebank_path)\n",
    "print(type(corpus))"
   ]
  },
  {
   "cell_type": "code",
   "execution_count": 3,
   "metadata": {},
   "outputs": [
    {
     "name": "stdout",
     "output_type": "stream",
     "text": [
      "n_sentencens=7627\n",
      "sent_ids[200]='KAD_17_Turkeys_MG__80'\n"
     ]
    }
   ],
   "source": [
    "n_sentencens = len(corpus)\n",
    "sent_ids = corpus.get_sent_ids()\n",
    "\n",
    "print(f\"{n_sentencens=}\")\n",
    "print(f\"{sent_ids[200]=}\")"
   ]
  },
  {
   "cell_type": "code",
   "execution_count": 5,
   "metadata": {},
   "outputs": [],
   "source": [
    "draft=CorpusDraft(corpus)\n",
    "\n"
   ]
  },
  {
   "cell_type": "code",
   "execution_count": 6,
   "metadata": {},
   "outputs": [],
   "source": [
    "'''Extrait toutes les syllabes des fichiers conllu'''\n",
    "def extraire_syllabes(draft):\n",
    "    pattern= re.compile(r'^Syl\\d+$')\n",
    "    set_syllabes=set()\n",
    "    for i in range(len(draft)):\n",
    "        sentence = draft[i]\n",
    "        features = sentence.features\n",
    "        for id, dico in features.items():\n",
    "            dico_copy = dico.copy()\n",
    "            for key in dico_copy: \n",
    "                    if pattern.match(key):            \n",
    "                        set_syllabes.add(dico[key])\n",
    "    liste_syllabes=list(set_syllabes)\n",
    "\n",
    "    return liste_syllabes\n",
    "'''Prend la liste complète de syllabes et extrait tous les caractères'''\n",
    "def extraire_caracteres(liste_syllabes):\n",
    "    liste_caracteres=[]\n",
    "    for syllabe in liste_syllabes:\n",
    "        for car in syllabe:\n",
    "            liste_caracteres.append(car)      \n",
    "    return liste_caracteres\n",
    "\n",
    "'''\n",
    "Prend la lyste de syllabes, prend chaque syllabe et la divise en trois parties.\n",
    "Prend les listes \"phonemes_bigraphiques\" et \"consonnes\" de transformation.py\n",
    "'''\n",
    "def diviser_syllabe(liste_syllabes):\n",
    "    syllabes_divisees = []\n",
    "    \n",
    "    for syllabe in liste_syllabes:\n",
    "        syllabes_char = []\n",
    "        i = 0\n",
    "        while i < len(syllabe):\n",
    "            trouve_phonemebi = False\n",
    "            for phoneme in phonemes_bigraphiques:\n",
    "                if re.match(phoneme, syllabe[i:]):\n",
    "                    syllabes_char.append(phoneme)\n",
    "                    i += len(phoneme)\n",
    "                    trouve_phonemebi = True\n",
    "                    break\n",
    "            if not trouve_phonemebi:\n",
    "                if not trouve_phonemebi:\n",
    "                    if i < len(syllabe) - 2 and all(caracter in consonnes for caracter in syllabe[i:i+3]):\n",
    "                        consonant_group = syllabe[i:i+3]\n",
    "                        syllabes_char.append(consonant_group)\n",
    "                        i += 3\n",
    "                    elif i < len(syllabe) - 1 and all(caracter in consonnes for caracter in syllabe[i:i+2]):\n",
    "                        consonant_group = syllabe[i:i+2]\n",
    "                        syllabes_char.append(consonant_group)\n",
    "                        i += 2\n",
    "                    else:\n",
    "                        syllabes_char.append(syllabe[i])\n",
    "                        i += 1\n",
    "        syllabes_divisees.append(syllabes_char)\n",
    "    return syllabes_divisees  \n",
    "\n",
    "'''Montre les occurrences de chaque caractère'''\n",
    "def comptage(liste_caracteres):\n",
    "    dico_occurrences={}\n",
    "    for caractere in liste_caracteres:\n",
    "        quantite=liste_caracteres.count(caractere)\n",
    "        dico_occurrences[caractere]=quantite\n",
    "    liste_occurrences=list(dico_occurrences.items())\n",
    "    return dico_occurrences\n",
    "\n",
    "'''Prend la liste complete de syllabes, trouve les caractères bizarres et fait un diccionanite avec les syllabes qui le possédent'''\n",
    "def trouver(liste_syllabes):\n",
    "    dico_c_indesirables={}\n",
    "    for c in liste_c_indesirables:\n",
    "        dico_c_indesirables[c] = []\n",
    "\n",
    "    for syllabe in liste_syllabes:\n",
    "        for car in liste_c_indesirables:\n",
    "            if car in syllabe:\n",
    "                dico_c_indesirables[car].append(syllabe)\n",
    "\n",
    "    return dico_c_indesirables\n",
    "'''\n",
    "Trouve un caractère indésirable dans les syllabes et le remplace. On remplace \"key\" par \"valeur\"\n",
    "Prend le diccionnaire  avec des caractères indésirables \"dico_transformation\" de transformation.py\n",
    "'''\n",
    "def transformation(liste_syllabes):\n",
    "    nouvelle_liste=[]\n",
    "    for syllabe in liste_syllabes:\n",
    "        nouvelle_syllabe = syllabe\n",
    "        for key, value in dico_transformation.items():\n",
    "            if key in nouvelle_syllabe:\n",
    "                nouvelle_syllabe = nouvelle_syllabe.replace(key, value)\n",
    "        nouvelle_liste.append(nouvelle_syllabe)\n",
    "    return nouvelle_liste\n",
    "\n",
    "\n",
    "def main():\n",
    "    import pandas as pd\n",
    "    draft = CorpusDraft(corpus)\n",
    "    complete_syllabes=extraire_syllabes(draft) \n",
    "    transforme_syllabes=transformation(complete_syllabes)    \n",
    "    complete_phonemes=diviser_syllabe(transforme_syllabes) \n",
    "    #complete_caracteres=extraire_caracteres(complete_syllabes) \n",
    "    #occurrences_caracteres=comptage(complete_caracteres)\n",
    "    # syllabes_bizarres=trouver(complete_syllabes)\n",
    "\n",
    "   \n",
    "    df=pd.DataFrame({'Syllabes_originales': complete_syllabes, 'Syllabes_transformees':transforme_syllabes, \"Division\":complete_phonemes})\n",
    "    df.to_csv('syllabes_divisees6.csv', index=False)\n",
    "\n",
    "    \n",
    "if __name__== \"__main__\" :\n",
    "    main()                \n",
    "            "
   ]
  }
 ],
 "metadata": {
  "kernelspec": {
   "display_name": "Python 3",
   "language": "python",
   "name": "python3"
  },
  "language_info": {
   "codemirror_mode": {
    "name": "ipython",
    "version": 3
   },
   "file_extension": ".py",
   "mimetype": "text/x-python",
   "name": "python",
   "nbconvert_exporter": "python",
   "pygments_lexer": "ipython3",
   "version": "3.11.7"
  }
 },
 "nbformat": 4,
 "nbformat_minor": 2
}
